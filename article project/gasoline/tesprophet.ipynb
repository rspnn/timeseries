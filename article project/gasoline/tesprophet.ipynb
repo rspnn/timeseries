{
 "cells": [
  {
   "cell_type": "code",
   "execution_count": 1,
   "id": "456bd113",
   "metadata": {},
   "outputs": [
    {
     "ename": "ModuleNotFoundError",
     "evalue": "No module named 'fbprophet'",
     "output_type": "error",
     "traceback": [
      "\u001b[0;31m---------------------------------------------------------------------------\u001b[0m",
      "\u001b[0;31mModuleNotFoundError\u001b[0m                       Traceback (most recent call last)",
      "Cell \u001b[0;32mIn[1], line 3\u001b[0m\n\u001b[1;32m      1\u001b[0m \u001b[38;5;28;01mimport\u001b[39;00m \u001b[38;5;21;01mpandas\u001b[39;00m \u001b[38;5;28;01mas\u001b[39;00m \u001b[38;5;21;01mpd\u001b[39;00m\n\u001b[1;32m      2\u001b[0m \u001b[38;5;28;01mimport\u001b[39;00m \u001b[38;5;21;01mnumpy\u001b[39;00m \u001b[38;5;28;01mas\u001b[39;00m \u001b[38;5;21;01mnp\u001b[39;00m\n\u001b[0;32m----> 3\u001b[0m \u001b[38;5;28;01mfrom\u001b[39;00m \u001b[38;5;21;01mfbprophet\u001b[39;00m \u001b[38;5;28;01mimport\u001b[39;00m Prophet\n\u001b[1;32m      4\u001b[0m \u001b[38;5;28;01mfrom\u001b[39;00m \u001b[38;5;21;01msklearn\u001b[39;00m\u001b[38;5;21;01m.\u001b[39;00m\u001b[38;5;21;01mmetrics\u001b[39;00m \u001b[38;5;28;01mimport\u001b[39;00m mean_squared_error\n\u001b[1;32m      5\u001b[0m \u001b[38;5;28;01mfrom\u001b[39;00m \u001b[38;5;21;01mmath\u001b[39;00m \u001b[38;5;28;01mimport\u001b[39;00m sqrt\n",
      "\u001b[0;31mModuleNotFoundError\u001b[0m: No module named 'fbprophet'"
     ]
    }
   ],
   "source": [
    "import pandas as pd\n",
    "import numpy as np\n",
    "from fbprophet import Prophet\n",
    "from sklearn.metrics import mean_squared_error\n",
    "from math import sqrt\n",
    "import matplotlib.pyplot as plt\n",
    "\n",
    "# Load dataset\n",
    "df = pd.read_csv('Gasoline.csv')\n",
    "\n",
    "# Prepare data\n",
    "data = df.rename(columns={'Tanggal': 'ds', 'Jumlah': 'y'})\n",
    "data = data[['ds', 'y']]\n",
    "\n",
    "# Split data into training and testing sets\n",
    "train_size = int(len(data) * 0.8)\n",
    "train, test = data[:train_size], data[train_size:]\n",
    "\n",
    "# Create and fit the model\n",
    "model = Prophet()\n",
    "model.fit(train)\n",
    "\n",
    "# Make predictions for the test set\n",
    "future = model.make_future_dataframe(periods=len(test))\n",
    "forecast = model.predict(future)\n",
    "\n",
    "# Extracting predicted values\n",
    "y_pred = forecast['yhat'].tail(len(test)).values\n",
    "\n",
    "# Evaluate the model\n",
    "y_true = test['y'].values\n",
    "rmse = sqrt(mean_squared_error(y_true, y_pred))\n",
    "mape = np.mean(np.abs((y_true - y_pred) / y_true)) * 100\n",
    "\n",
    "# Print RMSE and MAPE\n",
    "print(f\"RMSE: {rmse:.2f}\")\n",
    "print(f\"MAPE: {mape:.2f}%\")\n",
    "\n",
    "# Plot the actual vs predicted values\n",
    "plt.plot(test['ds'], y_true, label='Actual', color='blue')\n",
    "plt.plot(test['ds'], y_pred, label='Predicted Prophet', linestyle='--', color='orange')\n",
    "\n",
    "# Extend the period for future predictions\n",
    "future_extended = model.make_future_dataframe(periods=365)\n",
    "forecast_extended = model.predict(future_extended)\n",
    "\n",
    "# Extracting predicted values for the extended period\n",
    "y_pred_extended = forecast_extended['yhat'].tail(365).values\n",
    "\n",
    "# Plot the extended predictions\n",
    "plt.plot(forecast_extended['ds'].tail(365), y_pred_extended, label='Predicted Prophet (Extended)', linestyle='--', color='green')\n",
    "\n",
    "# Additional predictions for 30, 60, and 180 days\n",
    "days_to_predict = [30, 60, 180]\n",
    "for days in days_to_predict:\n",
    "    future_additional = model.make_future_dataframe(periods=days)\n",
    "    forecast_additional = model.predict(future_additional)\n",
    "    y_pred_additional = forecast_additional['yhat'].tail(days).values\n",
    "    plt.plot(forecast_additional['ds'].tail(days), y_pred_additional, label=f'Predicted Prophet {days} Days', linestyle='--')\n",
    "\n",
    "plt.title('Prophet Predictions vs Actual', fontsize=18)\n",
    "plt.xlabel('Date', fontsize=14)\n",
    "plt.ylabel('Total', fontsize=14)\n",
    "plt.legend()\n",
    "plt.show()\n"
   ]
  },
  {
   "cell_type": "code",
   "execution_count": null,
   "id": "018b6285",
   "metadata": {},
   "outputs": [],
   "source": []
  }
 ],
 "metadata": {
  "kernelspec": {
   "display_name": "Python 3 (ipykernel)",
   "language": "python",
   "name": "python3"
  },
  "language_info": {
   "codemirror_mode": {
    "name": "ipython",
    "version": 3
   },
   "file_extension": ".py",
   "mimetype": "text/x-python",
   "name": "python",
   "nbconvert_exporter": "python",
   "pygments_lexer": "ipython3",
   "version": "3.10.13"
  }
 },
 "nbformat": 4,
 "nbformat_minor": 5
}
